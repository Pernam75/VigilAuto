{
  "cells": [
    {
      "cell_type": "code",
      "execution_count": 1,
      "metadata": {},
      "outputs": [
        {
          "name": "stdout",
          "output_type": "stream",
          "text": [
            "/Users/jules/Documents/GithubRepo/VigilAutoAgent\n"
          ]
        },
        {
          "data": {
            "text/plain": [
              "'/Users/jules/Documents/GithubRepo/VigilAutoAgent'"
            ]
          },
          "execution_count": 1,
          "metadata": {},
          "output_type": "execute_result"
        }
      ],
      "source": [
        "%cd ..\n",
        "%pwd"
      ]
    },
    {
      "cell_type": "code",
      "execution_count": 2,
      "metadata": {
        "colab": {
          "base_uri": "https://localhost:8080/"
        },
        "id": "PY7QjWRKZMrT",
        "outputId": "c6147cfe-eb40-486e-8518-fbd86951e3f4"
      },
      "outputs": [
        {
          "name": "stdout",
          "output_type": "stream",
          "text": [
            "Requirement already satisfied: langchain-groq in /Users/jules/Documents/miniconda3/envs/VigilAutoAgent/lib/python3.10/site-packages (from -r requirements.txt (line 1)) (0.0.1)\n",
            "Requirement already satisfied: python-dotenv in /Users/jules/Documents/miniconda3/envs/VigilAutoAgent/lib/python3.10/site-packages (from -r requirements.txt (line 2)) (1.0.1)\n",
            "Requirement already satisfied: gTTS in /Users/jules/Documents/miniconda3/envs/VigilAutoAgent/lib/python3.10/site-packages (from -r requirements.txt (line 3)) (2.5.1)\n",
            "Requirement already satisfied: groq<1,>=0.4.1 in /Users/jules/Documents/miniconda3/envs/VigilAutoAgent/lib/python3.10/site-packages (from langchain-groq->-r requirements.txt (line 1)) (0.4.2)\n",
            "Requirement already satisfied: langchain-core<0.2,>=0.1 in /Users/jules/Documents/miniconda3/envs/VigilAutoAgent/lib/python3.10/site-packages (from langchain-groq->-r requirements.txt (line 1)) (0.1.33)\n",
            "Requirement already satisfied: requests<3,>=2.27 in /Users/jules/Documents/miniconda3/envs/VigilAutoAgent/lib/python3.10/site-packages (from gTTS->-r requirements.txt (line 3)) (2.31.0)\n",
            "Requirement already satisfied: click<8.2,>=7.1 in /Users/jules/Documents/miniconda3/envs/VigilAutoAgent/lib/python3.10/site-packages (from gTTS->-r requirements.txt (line 3)) (8.1.7)\n",
            "Requirement already satisfied: anyio<5,>=3.5.0 in /Users/jules/Documents/miniconda3/envs/VigilAutoAgent/lib/python3.10/site-packages (from groq<1,>=0.4.1->langchain-groq->-r requirements.txt (line 1)) (4.3.0)\n",
            "Requirement already satisfied: distro<2,>=1.7.0 in /Users/jules/Documents/miniconda3/envs/VigilAutoAgent/lib/python3.10/site-packages (from groq<1,>=0.4.1->langchain-groq->-r requirements.txt (line 1)) (1.9.0)\n",
            "Requirement already satisfied: httpx<1,>=0.23.0 in /Users/jules/Documents/miniconda3/envs/VigilAutoAgent/lib/python3.10/site-packages (from groq<1,>=0.4.1->langchain-groq->-r requirements.txt (line 1)) (0.27.0)\n",
            "Requirement already satisfied: pydantic<3,>=1.9.0 in /Users/jules/Documents/miniconda3/envs/VigilAutoAgent/lib/python3.10/site-packages (from groq<1,>=0.4.1->langchain-groq->-r requirements.txt (line 1)) (2.6.4)\n",
            "Requirement already satisfied: sniffio in /Users/jules/Documents/miniconda3/envs/VigilAutoAgent/lib/python3.10/site-packages (from groq<1,>=0.4.1->langchain-groq->-r requirements.txt (line 1)) (1.3.1)\n",
            "Requirement already satisfied: typing-extensions<5,>=4.7 in /Users/jules/Documents/miniconda3/envs/VigilAutoAgent/lib/python3.10/site-packages (from groq<1,>=0.4.1->langchain-groq->-r requirements.txt (line 1)) (4.10.0)\n",
            "Requirement already satisfied: PyYAML>=5.3 in /Users/jules/Documents/miniconda3/envs/VigilAutoAgent/lib/python3.10/site-packages (from langchain-core<0.2,>=0.1->langchain-groq->-r requirements.txt (line 1)) (6.0.1)\n",
            "Requirement already satisfied: jsonpatch<2.0,>=1.33 in /Users/jules/Documents/miniconda3/envs/VigilAutoAgent/lib/python3.10/site-packages (from langchain-core<0.2,>=0.1->langchain-groq->-r requirements.txt (line 1)) (1.33)\n",
            "Requirement already satisfied: langsmith<0.2.0,>=0.1.0 in /Users/jules/Documents/miniconda3/envs/VigilAutoAgent/lib/python3.10/site-packages (from langchain-core<0.2,>=0.1->langchain-groq->-r requirements.txt (line 1)) (0.1.31)\n",
            "Requirement already satisfied: packaging<24.0,>=23.2 in /Users/jules/Documents/miniconda3/envs/VigilAutoAgent/lib/python3.10/site-packages (from langchain-core<0.2,>=0.1->langchain-groq->-r requirements.txt (line 1)) (23.2)\n",
            "Requirement already satisfied: tenacity<9.0.0,>=8.1.0 in /Users/jules/Documents/miniconda3/envs/VigilAutoAgent/lib/python3.10/site-packages (from langchain-core<0.2,>=0.1->langchain-groq->-r requirements.txt (line 1)) (8.2.3)\n",
            "Requirement already satisfied: charset-normalizer<4,>=2 in /Users/jules/Documents/miniconda3/envs/VigilAutoAgent/lib/python3.10/site-packages (from requests<3,>=2.27->gTTS->-r requirements.txt (line 3)) (3.3.2)\n",
            "Requirement already satisfied: idna<4,>=2.5 in /Users/jules/Documents/miniconda3/envs/VigilAutoAgent/lib/python3.10/site-packages (from requests<3,>=2.27->gTTS->-r requirements.txt (line 3)) (3.6)\n",
            "Requirement already satisfied: urllib3<3,>=1.21.1 in /Users/jules/Documents/miniconda3/envs/VigilAutoAgent/lib/python3.10/site-packages (from requests<3,>=2.27->gTTS->-r requirements.txt (line 3)) (2.2.1)\n",
            "Requirement already satisfied: certifi>=2017.4.17 in /Users/jules/Documents/miniconda3/envs/VigilAutoAgent/lib/python3.10/site-packages (from requests<3,>=2.27->gTTS->-r requirements.txt (line 3)) (2024.2.2)\n",
            "Requirement already satisfied: exceptiongroup>=1.0.2 in /Users/jules/Documents/miniconda3/envs/VigilAutoAgent/lib/python3.10/site-packages (from anyio<5,>=3.5.0->groq<1,>=0.4.1->langchain-groq->-r requirements.txt (line 1)) (1.2.0)\n",
            "Requirement already satisfied: httpcore==1.* in /Users/jules/Documents/miniconda3/envs/VigilAutoAgent/lib/python3.10/site-packages (from httpx<1,>=0.23.0->groq<1,>=0.4.1->langchain-groq->-r requirements.txt (line 1)) (1.0.4)\n",
            "Requirement already satisfied: h11<0.15,>=0.13 in /Users/jules/Documents/miniconda3/envs/VigilAutoAgent/lib/python3.10/site-packages (from httpcore==1.*->httpx<1,>=0.23.0->groq<1,>=0.4.1->langchain-groq->-r requirements.txt (line 1)) (0.14.0)\n",
            "Requirement already satisfied: jsonpointer>=1.9 in /Users/jules/Documents/miniconda3/envs/VigilAutoAgent/lib/python3.10/site-packages (from jsonpatch<2.0,>=1.33->langchain-core<0.2,>=0.1->langchain-groq->-r requirements.txt (line 1)) (2.4)\n",
            "Requirement already satisfied: orjson<4.0.0,>=3.9.14 in /Users/jules/Documents/miniconda3/envs/VigilAutoAgent/lib/python3.10/site-packages (from langsmith<0.2.0,>=0.1.0->langchain-core<0.2,>=0.1->langchain-groq->-r requirements.txt (line 1)) (3.9.15)\n",
            "Requirement already satisfied: annotated-types>=0.4.0 in /Users/jules/Documents/miniconda3/envs/VigilAutoAgent/lib/python3.10/site-packages (from pydantic<3,>=1.9.0->groq<1,>=0.4.1->langchain-groq->-r requirements.txt (line 1)) (0.6.0)\n",
            "Requirement already satisfied: pydantic-core==2.16.3 in /Users/jules/Documents/miniconda3/envs/VigilAutoAgent/lib/python3.10/site-packages (from pydantic<3,>=1.9.0->groq<1,>=0.4.1->langchain-groq->-r requirements.txt (line 1)) (2.16.3)\n"
          ]
        }
      ],
      "source": [
        "!pip install -r requirements.txt"
      ]
    },
    {
      "cell_type": "code",
      "execution_count": 3,
      "metadata": {
        "id": "wTJl4KecZQ--"
      },
      "outputs": [],
      "source": [
        "from langchain_core.prompts import ChatPromptTemplate\n",
        "from langchain_groq import ChatGroq\n",
        "import os\n",
        "from dotenv import load_dotenv\n",
        "\n",
        "load_dotenv()\n",
        "GROQ_API_KEY = os.getenv(\"GROQ_API_KEY\")"
      ]
    },
    {
      "cell_type": "code",
      "execution_count": 4,
      "metadata": {
        "id": "RvEmVS1yZQ5l"
      },
      "outputs": [],
      "source": [
        "chat = ChatGroq(temperature=0, groq_api_key=GROQ_API_KEY, model_name=\"mixtral-8x7b-32768\")"
      ]
    },
    {
      "cell_type": "code",
      "execution_count": 5,
      "metadata": {
        "colab": {
          "base_uri": "https://localhost:8080/",
          "height": 1000
        },
        "id": "gReDcWzeZa1f",
        "outputId": "d42de8b5-6fa0-4372-89ec-b3be5b5bbbe8"
      },
      "outputs": [],
      "source": [
        "def get_response(human_entry: str) -> str:\n",
        "    \"\"\"\n",
        "    * human_entry: str\n",
        "    * return: str\n",
        "\n",
        "    This function takes a human entry and returns the response from the model.\n",
        "\n",
        "    TODO : Add the alccol level in the prompt and announce it to the driver if it is above 0.5g/L\n",
        "    \n",
        "    \"\"\"\n",
        "    SYSTEM_PROMPT = \"Tu es un assistant vocal de conduite. Grâce à une caméra intégrée dans la voiture, le taux d'alcoolémie du conducteur est mesuré. Sache qu'un verre standard d'alccol équivault à 0.2g/L. Si le taux est supérieur à 0.5g/L, tu dois conseiller au conducteur de ne pas conduire.\"\n",
        "    human = \"{text}\"\n",
        "    alcool = 1.6\n",
        "    prompt = ChatPromptTemplate.from_messages([(\"system\", SYSTEM_PROMPT), (\"human\", human)])\n",
        "\n",
        "    chain = prompt | chat\n",
        "    result = chain.invoke({\"text\": human_entry})\n",
        "    return result"
      ]
    },
    {
      "cell_type": "code",
      "execution_count": 6,
      "metadata": {},
      "outputs": [],
      "source": [
        "from gtts import gTTS\n",
        "\n",
        "def text_to_speech(text: str) -> None:\n",
        "    \"\"\"\n",
        "    * text: str\n",
        "\n",
        "    This function takes a text and converts it to speech using the gTTS library.\n",
        "\n",
        "    TODO : Return the audio file as bytes instead of saving it to the disk. In prevision of the API.\n",
        "\n",
        "    \"\"\"\n",
        "\n",
        "    if os.getcwd().split(\"/\")[-1] != \"VigilAutoAgent\":\n",
        "        raise Exception(\"Avoid running this function if you are not in the root directory of the project.\")\n",
        "    tts = gTTS(text=text, lang=\"fr\")\n",
        "    tts.save(\"output.mp3\")\n",
        "    print(\"Audio saved\")"
      ]
    },
    {
      "cell_type": "code",
      "execution_count": 8,
      "metadata": {},
      "outputs": [
        {
          "name": "stdout",
          "output_type": "stream",
          "text": [
            "Je suis désolé, mais je ne peux pas te permettre de conduire. Même si tu te sens bien, le taux d'alcoolémie dans ton sang peut être supérieur à la limite légale. Il est préférable de ne pas prendre de risques et de trouver un autre moyen de transport.\n"
          ]
        }
      ],
      "source": [
        "human_text = \"J'ai bu quelques verres, mais je me sens bien pour conduire.\"\n",
        "result = get_response(human_text)\n",
        "print(result.content)"
      ]
    },
    {
      "cell_type": "code",
      "execution_count": 9,
      "metadata": {},
      "outputs": [
        {
          "name": "stdout",
          "output_type": "stream",
          "text": [
            "Audio saved\n"
          ]
        }
      ],
      "source": [
        "text_to_speech(result.content)"
      ]
    }
  ],
  "metadata": {
    "colab": {
      "provenance": []
    },
    "kernelspec": {
      "display_name": "Python 3",
      "name": "python3"
    },
    "language_info": {
      "codemirror_mode": {
        "name": "ipython",
        "version": 3
      },
      "file_extension": ".py",
      "mimetype": "text/x-python",
      "name": "python",
      "nbconvert_exporter": "python",
      "pygments_lexer": "ipython3",
      "version": "3.10.14"
    }
  },
  "nbformat": 4,
  "nbformat_minor": 0
}
