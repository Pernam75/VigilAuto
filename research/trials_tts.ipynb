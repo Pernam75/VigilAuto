{
 "cells": [
  {
   "cell_type": "code",
   "execution_count": null,
   "metadata": {},
   "outputs": [],
   "source": [
    "%cd ..\n",
    "%pwd"
   ]
  },
  {
   "cell_type": "code",
   "execution_count": null,
   "metadata": {},
   "outputs": [],
   "source": [
    "!pip install -r requirements.txt"
   ]
  },
  {
   "cell_type": "code",
   "execution_count": null,
   "metadata": {},
   "outputs": [],
   "source": [
    "from gtts import gTTS\n",
    "import os\n",
    "\n",
    "def text_to_speech_gTTS(text: str) -> None:\n",
    "    \"\"\"\n",
    "    * text: str\n",
    "\n",
    "    This function takes a text and converts it to speech using the gTTS library.\n",
    "\n",
    "    TODO : Return the audio file as bytes instead of saving it to the disk. In prevision of the API.\n",
    "\n",
    "    \"\"\"\n",
    "\n",
    "    if os.getcwd().split(\"/\")[-1] != \"VigilAutoAgent\":\n",
    "        raise Exception(\"Avoid running this function if you are not in the root directory of the project.\")\n",
    "    tts = gTTS(text=text, lang=\"fr\")\n",
    "    tts.save(\"gTTS_output.mp3\")\n",
    "    print(\"Audio saved\")\n",
    "\n",
    "text_to_speech_gTTS(\"Bonjour, comment allez-vous ? Ceci est un test pour un assistant vocal.\")"
   ]
  },
  {
   "cell_type": "code",
   "execution_count": null,
   "metadata": {},
   "outputs": [],
   "source": [
    "from ttsmms import download\n",
    "\n",
    "dir_path = download(\"fra\",\"./data\")\n"
   ]
  },
  {
   "cell_type": "code",
   "execution_count": null,
   "metadata": {},
   "outputs": [],
   "source": [
    "from ttsmms import TTS\n",
    "\n",
    "tts=TTS(dir_path) # or \"model_dir_path\" your path dir that extract a tar ball archive\n",
    "tts.synthesis(\"Bonjour, comment allez-vous ? Ceci est un test pour un assistant vocal.\", \"TTSMMS_output.wav\")"
   ]
  },
  {
   "cell_type": "code",
   "execution_count": null,
   "metadata": {},
   "outputs": [],
   "source": [
    "!pip install TTS"
   ]
  },
  {
   "cell_type": "code",
   "execution_count": null,
   "metadata": {},
   "outputs": [],
   "source": [
    "from TTS.api import TTS\n",
    "\n",
    "# french models\n",
    "#  'tts_models/fr/mai/tacotron2-DDC',\n",
    "#  'tts_models/fr/css10/vits',\n",
    "\n",
    "model = TTS(model_name=\"tts_models/fr/mai/tacotron2-DDC\", progress_bar=False)"
   ]
  },
  {
   "cell_type": "code",
   "execution_count": null,
   "metadata": {},
   "outputs": [],
   "source": [
    "model.tts_to_file(text=\"Bonjour, comment allez-vous ? Ceci est un essai pour un assistant vocal.\", file_path=\"TTS_output.wav\")"
   ]
  },
  {
   "cell_type": "code",
   "execution_count": null,
   "metadata": {},
   "outputs": [],
   "source": [
    "model2 = TTS(model_name=\"tts_models/fr/css10/vits\", progress_bar=False)\n",
    "\n",
    "model2.tts_to_file(text=\"Bonjour, comment allez-vous ? Ceci est un essai pour un assistant vocal.\", file_path=\"TTS_output2.wav\")"
   ]
  },
  {
   "cell_type": "code",
   "execution_count": null,
   "metadata": {},
   "outputs": [],
   "source": []
  }
 ],
 "metadata": {
  "kernelspec": {
   "display_name": "vigilauto",
   "language": "python",
   "name": "python3"
  },
  "language_info": {
   "codemirror_mode": {
    "name": "ipython",
    "version": 3
   },
   "file_extension": ".py",
   "mimetype": "text/x-python",
   "name": "python",
   "nbconvert_exporter": "python",
   "pygments_lexer": "ipython3",
   "version": "3.10.14"
  }
 },
 "nbformat": 4,
 "nbformat_minor": 2
}
