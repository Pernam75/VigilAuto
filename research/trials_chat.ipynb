{
 "cells": [
  {
   "cell_type": "code",
   "execution_count": null,
   "metadata": {},
   "outputs": [],
   "source": [
    "%cd ..\n",
    "%pwd"
   ]
  },
  {
   "cell_type": "code",
   "execution_count": null,
   "metadata": {},
   "outputs": [],
   "source": [
    "!pip install -r requirements.txt"
   ]
  },
  {
   "cell_type": "code",
   "execution_count": null,
   "metadata": {},
   "outputs": [],
   "source": [
    "import os\n",
    "from dotenv import load_dotenv\n",
    "\n",
    "load_dotenv()\n",
    "\n",
    "groq_api_key = os.getenv(\"GROQ_API_KEY\")"
   ]
  },
  {
   "cell_type": "code",
   "execution_count": null,
   "metadata": {},
   "outputs": [],
   "source": [
    "# Now we can override it and set it to \"AI Assistant\"\n",
    "from langchain.prompts.prompt import PromptTemplate\n",
    "\n",
    "template = \"\"\"\n",
    "        Tu es un assistant vocal de conduite. Grâce à une caméra intégrée dans la voiture, le taux d'alcoolémie du conducteur a été mesuré.\n",
    "        Sache qu'un verre standard d'alccol équivault à 0.2g/L. Si le taux est supérieur à 0.5g/L, tu dois conseiller au conducteur de ne pas conduire. \n",
    "        Reste concis très concis dans tes réponses.\n",
    "Conversation actuelle:\n",
    "{history}\n",
    "Utilisateur: {input}\n",
    "Assistant Vocal:\"\"\"\n",
    "\n",
    "SYSTEM_PROMPT = PromptTemplate(input_variables=[\"history\", \"input\"], template=template)"
   ]
  },
  {
   "cell_type": "code",
   "execution_count": null,
   "metadata": {},
   "outputs": [],
   "source": [
    "from langchain_groq import ChatGroq\n",
    "from langchain.chains import ConversationChain\n",
    "from langchain.memory import ConversationBufferMemory\n",
    "\n",
    "\n",
    "llm = ChatGroq(groq_api_key=groq_api_key, model=\"mixtral-8x7b-32768\")\n",
    "conversation = ConversationChain(\n",
    "    prompt=SYSTEM_PROMPT,\n",
    "    llm=llm,\n",
    "    verbose=False,\n",
    "    memory=ConversationBufferMemory(ai_prefix=\"AI Assistant\"),\n",
    ")\n"
   ]
  },
  {
   "cell_type": "code",
   "execution_count": null,
   "metadata": {},
   "outputs": [],
   "source": [
    "inputs = [\n",
    "    \"Bonjour VigilAuto, on rentre à la maison !\",\n",
    "    \"Oh non, je n'ai pas beaucoup bu ce soir, seulement un verre de vin.\",\n",
    "    \"Combien ai-je bu déjà ?\",\n",
    "    \"Merci Vigil'Auto, on est partis !\",\n",
    "]\n",
    "for user_input in inputs:\n",
    "    print(f\"User: {user_input}\")\n",
    "    print(f\"AI Assistant: {conversation.predict(input=user_input)}\")"
   ]
  },
  {
   "cell_type": "code",
   "execution_count": null,
   "metadata": {},
   "outputs": [],
   "source": [
    "from VigilAuto.entity.config_entity import LLMConfig\n",
    "class LLMChat:\n",
    "    def __init__(self, config: LLMConfig):\n",
    "        template = \"\"\"\n",
    "        Tu es un assistant vocal de conduite. Grâce à une caméra intégrée dans la voiture, le taux d'alcoolémie du conducteur a été mesuré.\n",
    "        Sache qu'un verre standard d'alccol équivault à 0.2g/L. Si le taux est supérieur à 0.5g/L, tu dois conseiller au conducteur de ne pas conduire. \n",
    "        Reste concis très concis dans tes réponses.\n",
    "        Conversation actuelle:\n",
    "        {history}\n",
    "        Utilisateur: {input}\n",
    "        Assistant Vocal:\"\"\"\n",
    "        self.config = config\n",
    "        self.llm = ChatGroq(groq_api_key=groq_api_key, model=self.config.model_name)\n",
    "        self.conversation = ConversationChain(\n",
    "            prompt=PromptTemplate(input_variables=[\"history\", \"input\"], template=template),\n",
    "            llm=self.llm,\n",
    "            verbose=False,\n",
    "            memory=ConversationBufferMemory(ai_prefix=\"Assistant Vocal\", human_prefix=\"Conducteur\"),\n",
    "        )\n",
    "\n",
    "    def predict(self, input: str):\n",
    "        return self.conversation.predict(input=input)"
   ]
  },
  {
   "cell_type": "code",
   "execution_count": null,
   "metadata": {},
   "outputs": [],
   "source": [
    "from VigilAuto.config.configuration import ConfigurationManager\n",
    "config_manager = ConfigurationManager()\n",
    "llm_config = config_manager.get_llm_config()\n",
    "llm = LLMChat(config=llm_config)"
   ]
  },
  {
   "cell_type": "code",
   "execution_count": null,
   "metadata": {},
   "outputs": [],
   "source": [
    "llm.predict(\"Bonjour VigilAuto, je m'appelle Jules et je suis le conducteur de la voiture.\")"
   ]
  },
  {
   "cell_type": "code",
   "execution_count": null,
   "metadata": {},
   "outputs": [],
   "source": [
    "llm.predict(\"Quel est mon nom ?\")"
   ]
  }
 ],
 "metadata": {
  "kernelspec": {
   "display_name": "vigilauto",
   "language": "python",
   "name": "python3"
  },
  "language_info": {
   "codemirror_mode": {
    "name": "ipython",
    "version": 3
   },
   "file_extension": ".py",
   "mimetype": "text/x-python",
   "name": "python",
   "nbconvert_exporter": "python",
   "pygments_lexer": "ipython3",
   "version": "3.10.14"
  }
 },
 "nbformat": 4,
 "nbformat_minor": 2
}
