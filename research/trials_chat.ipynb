{
 "cells": [
  {
   "cell_type": "code",
   "execution_count": 1,
   "metadata": {},
   "outputs": [
    {
     "name": "stdout",
     "output_type": "stream",
     "text": [
      "/Users/jrubin/Documents/GithubRepo/VigilAuto\n"
     ]
    },
    {
     "data": {
      "text/plain": [
       "'/Users/jrubin/Documents/GithubRepo/VigilAuto'"
      ]
     },
     "execution_count": 1,
     "metadata": {},
     "output_type": "execute_result"
    }
   ],
   "source": [
    "%cd ..\n",
    "%pwd"
   ]
  },
  {
   "cell_type": "code",
   "execution_count": 2,
   "metadata": {},
   "outputs": [
    {
     "name": "stdout",
     "output_type": "stream",
     "text": [
      "Obtaining file:///Users/jrubin/Documents/GithubRepo/VigilAuto (from -r requirements.txt (line 6))\n",
      "  Installing build dependencies ... \u001b[?25ldone\n",
      "\u001b[?25h  Checking if build backend supports build_editable ... \u001b[?25ldone\n",
      "\u001b[?25h  Getting requirements to build editable ... \u001b[?25ldone\n",
      "\u001b[?25h  Installing backend dependencies ... \u001b[?25ldone\n",
      "\u001b[?25h  Preparing editable metadata (pyproject.toml) ... \u001b[?25ldone\n",
      "\u001b[?25hRequirement already satisfied: langchain-groq in ./.venv/lib/python3.10/site-packages (from -r requirements.txt (line 1)) (0.1.0)\n",
      "Requirement already satisfied: langchain in ./.venv/lib/python3.10/site-packages (from -r requirements.txt (line 2)) (0.1.14)\n",
      "Requirement already satisfied: python-dotenv in ./.venv/lib/python3.10/site-packages (from -r requirements.txt (line 3)) (1.0.1)\n",
      "Requirement already satisfied: TTS in ./.venv/lib/python3.10/site-packages (from -r requirements.txt (line 4)) (0.22.0)\n",
      "Requirement already satisfied: openai-whisper in ./.venv/lib/python3.10/site-packages (from -r requirements.txt (line 5)) (20231117)\n",
      "Requirement already satisfied: python-box==6.0.2 in ./.venv/lib/python3.10/site-packages (from -r requirements.txt (line 7)) (6.0.2)\n",
      "Requirement already satisfied: ensure==1.0.2 in ./.venv/lib/python3.10/site-packages (from -r requirements.txt (line 8)) (1.0.2)\n",
      "Requirement already satisfied: pytest in ./.venv/lib/python3.10/site-packages (from -r requirements.txt (line 9)) (8.1.1)\n",
      "Requirement already satisfied: six>=1.11.0 in ./.venv/lib/python3.10/site-packages (from ensure==1.0.2->-r requirements.txt (line 8)) (1.16.0)\n",
      "Requirement already satisfied: groq<1,>=0.4.1 in ./.venv/lib/python3.10/site-packages (from langchain-groq->-r requirements.txt (line 1)) (0.4.2)\n",
      "Requirement already satisfied: langchain-core<0.2.0,>=0.1.40 in ./.venv/lib/python3.10/site-packages (from langchain-groq->-r requirements.txt (line 1)) (0.1.40)\n",
      "Requirement already satisfied: PyYAML>=5.3 in ./.venv/lib/python3.10/site-packages (from langchain->-r requirements.txt (line 2)) (6.0.1)\n",
      "Requirement already satisfied: SQLAlchemy<3,>=1.4 in ./.venv/lib/python3.10/site-packages (from langchain->-r requirements.txt (line 2)) (2.0.29)\n",
      "Requirement already satisfied: aiohttp<4.0.0,>=3.8.3 in ./.venv/lib/python3.10/site-packages (from langchain->-r requirements.txt (line 2)) (3.9.3)\n",
      "Requirement already satisfied: async-timeout<5.0.0,>=4.0.0 in ./.venv/lib/python3.10/site-packages (from langchain->-r requirements.txt (line 2)) (4.0.3)\n",
      "Requirement already satisfied: dataclasses-json<0.7,>=0.5.7 in ./.venv/lib/python3.10/site-packages (from langchain->-r requirements.txt (line 2)) (0.6.4)\n",
      "Requirement already satisfied: jsonpatch<2.0,>=1.33 in ./.venv/lib/python3.10/site-packages (from langchain->-r requirements.txt (line 2)) (1.33)\n",
      "Requirement already satisfied: langchain-community<0.1,>=0.0.30 in ./.venv/lib/python3.10/site-packages (from langchain->-r requirements.txt (line 2)) (0.0.31)\n",
      "Requirement already satisfied: langchain-text-splitters<0.1,>=0.0.1 in ./.venv/lib/python3.10/site-packages (from langchain->-r requirements.txt (line 2)) (0.0.1)\n",
      "Requirement already satisfied: langsmith<0.2.0,>=0.1.17 in ./.venv/lib/python3.10/site-packages (from langchain->-r requirements.txt (line 2)) (0.1.40)\n",
      "Requirement already satisfied: numpy<2,>=1 in ./.venv/lib/python3.10/site-packages (from langchain->-r requirements.txt (line 2)) (1.22.0)\n",
      "Requirement already satisfied: pydantic<3,>=1 in ./.venv/lib/python3.10/site-packages (from langchain->-r requirements.txt (line 2)) (2.6.4)\n",
      "Requirement already satisfied: requests<3,>=2 in ./.venv/lib/python3.10/site-packages (from langchain->-r requirements.txt (line 2)) (2.31.0)\n",
      "Requirement already satisfied: tenacity<9.0.0,>=8.1.0 in ./.venv/lib/python3.10/site-packages (from langchain->-r requirements.txt (line 2)) (8.2.3)\n",
      "Requirement already satisfied: cython>=0.29.30 in ./.venv/lib/python3.10/site-packages (from TTS->-r requirements.txt (line 4)) (3.0.10)\n",
      "Requirement already satisfied: scipy>=1.11.2 in ./.venv/lib/python3.10/site-packages (from TTS->-r requirements.txt (line 4)) (1.11.4)\n",
      "Requirement already satisfied: torch>=2.1 in ./.venv/lib/python3.10/site-packages (from TTS->-r requirements.txt (line 4)) (2.2.2)\n",
      "Requirement already satisfied: torchaudio in ./.venv/lib/python3.10/site-packages (from TTS->-r requirements.txt (line 4)) (2.2.2)\n",
      "Requirement already satisfied: soundfile>=0.12.0 in ./.venv/lib/python3.10/site-packages (from TTS->-r requirements.txt (line 4)) (0.12.1)\n",
      "Requirement already satisfied: librosa>=0.10.0 in ./.venv/lib/python3.10/site-packages (from TTS->-r requirements.txt (line 4)) (0.10.0)\n",
      "Requirement already satisfied: scikit-learn>=1.3.0 in ./.venv/lib/python3.10/site-packages (from TTS->-r requirements.txt (line 4)) (1.4.1.post1)\n",
      "Requirement already satisfied: inflect>=5.6.0 in ./.venv/lib/python3.10/site-packages (from TTS->-r requirements.txt (line 4)) (7.2.0)\n",
      "Requirement already satisfied: tqdm>=4.64.1 in ./.venv/lib/python3.10/site-packages (from TTS->-r requirements.txt (line 4)) (4.66.2)\n",
      "Requirement already satisfied: anyascii>=0.3.0 in ./.venv/lib/python3.10/site-packages (from TTS->-r requirements.txt (line 4)) (0.3.2)\n",
      "Requirement already satisfied: fsspec>=2023.6.0 in ./.venv/lib/python3.10/site-packages (from TTS->-r requirements.txt (line 4)) (2024.3.1)\n",
      "Requirement already satisfied: packaging>=23.1 in ./.venv/lib/python3.10/site-packages (from TTS->-r requirements.txt (line 4)) (23.2)\n",
      "Requirement already satisfied: flask>=2.0.1 in ./.venv/lib/python3.10/site-packages (from TTS->-r requirements.txt (line 4)) (3.0.2)\n",
      "Requirement already satisfied: pysbd>=0.3.4 in ./.venv/lib/python3.10/site-packages (from TTS->-r requirements.txt (line 4)) (0.3.4)\n",
      "Requirement already satisfied: umap-learn>=0.5.1 in ./.venv/lib/python3.10/site-packages (from TTS->-r requirements.txt (line 4)) (0.5.6)\n",
      "Requirement already satisfied: pandas<2.0,>=1.4 in ./.venv/lib/python3.10/site-packages (from TTS->-r requirements.txt (line 4)) (1.5.3)\n",
      "Requirement already satisfied: matplotlib>=3.7.0 in ./.venv/lib/python3.10/site-packages (from TTS->-r requirements.txt (line 4)) (3.8.4)\n",
      "Requirement already satisfied: trainer>=0.0.32 in ./.venv/lib/python3.10/site-packages (from TTS->-r requirements.txt (line 4)) (0.0.36)\n",
      "Requirement already satisfied: coqpit>=0.0.16 in ./.venv/lib/python3.10/site-packages (from TTS->-r requirements.txt (line 4)) (0.0.17)\n",
      "Requirement already satisfied: jieba in ./.venv/lib/python3.10/site-packages (from TTS->-r requirements.txt (line 4)) (0.42.1)\n",
      "Requirement already satisfied: pypinyin in ./.venv/lib/python3.10/site-packages (from TTS->-r requirements.txt (line 4)) (0.51.0)\n",
      "Requirement already satisfied: hangul-romanize in ./.venv/lib/python3.10/site-packages (from TTS->-r requirements.txt (line 4)) (0.1.0)\n",
      "Requirement already satisfied: gruut==2.2.3 in ./.venv/lib/python3.10/site-packages (from gruut[de,es,fr]==2.2.3->TTS->-r requirements.txt (line 4)) (2.2.3)\n",
      "Requirement already satisfied: jamo in ./.venv/lib/python3.10/site-packages (from TTS->-r requirements.txt (line 4)) (0.4.1)\n",
      "Requirement already satisfied: nltk in ./.venv/lib/python3.10/site-packages (from TTS->-r requirements.txt (line 4)) (3.8.1)\n",
      "Requirement already satisfied: g2pkk>=0.1.1 in ./.venv/lib/python3.10/site-packages (from TTS->-r requirements.txt (line 4)) (0.1.2)\n",
      "Requirement already satisfied: bangla in ./.venv/lib/python3.10/site-packages (from TTS->-r requirements.txt (line 4)) (0.0.2)\n",
      "Requirement already satisfied: bnnumerizer in ./.venv/lib/python3.10/site-packages (from TTS->-r requirements.txt (line 4)) (0.0.2)\n",
      "Requirement already satisfied: bnunicodenormalizer in ./.venv/lib/python3.10/site-packages (from TTS->-r requirements.txt (line 4)) (0.1.6)\n",
      "Requirement already satisfied: einops>=0.6.0 in ./.venv/lib/python3.10/site-packages (from TTS->-r requirements.txt (line 4)) (0.7.0)\n",
      "Requirement already satisfied: transformers>=4.33.0 in ./.venv/lib/python3.10/site-packages (from TTS->-r requirements.txt (line 4)) (4.39.3)\n",
      "Requirement already satisfied: encodec>=0.1.1 in ./.venv/lib/python3.10/site-packages (from TTS->-r requirements.txt (line 4)) (0.1.1)\n",
      "Requirement already satisfied: unidecode>=1.3.2 in ./.venv/lib/python3.10/site-packages (from TTS->-r requirements.txt (line 4)) (1.3.8)\n",
      "Requirement already satisfied: num2words in ./.venv/lib/python3.10/site-packages (from TTS->-r requirements.txt (line 4)) (0.5.13)\n",
      "Requirement already satisfied: spacy>=3 in ./.venv/lib/python3.10/site-packages (from spacy[ja]>=3->TTS->-r requirements.txt (line 4)) (3.7.4)\n",
      "Requirement already satisfied: numba>=0.57.0 in ./.venv/lib/python3.10/site-packages (from TTS->-r requirements.txt (line 4)) (0.59.1)\n",
      "Requirement already satisfied: Babel<3.0.0,>=2.8.0 in ./.venv/lib/python3.10/site-packages (from gruut==2.2.3->gruut[de,es,fr]==2.2.3->TTS->-r requirements.txt (line 4)) (2.14.0)\n",
      "Requirement already satisfied: dateparser~=1.1.0 in ./.venv/lib/python3.10/site-packages (from gruut==2.2.3->gruut[de,es,fr]==2.2.3->TTS->-r requirements.txt (line 4)) (1.1.8)\n",
      "Requirement already satisfied: gruut-ipa<1.0,>=0.12.0 in ./.venv/lib/python3.10/site-packages (from gruut==2.2.3->gruut[de,es,fr]==2.2.3->TTS->-r requirements.txt (line 4)) (0.13.0)\n",
      "Requirement already satisfied: gruut-lang-en~=2.0.0 in ./.venv/lib/python3.10/site-packages (from gruut==2.2.3->gruut[de,es,fr]==2.2.3->TTS->-r requirements.txt (line 4)) (2.0.0)\n",
      "Requirement already satisfied: jsonlines~=1.2.0 in ./.venv/lib/python3.10/site-packages (from gruut==2.2.3->gruut[de,es,fr]==2.2.3->TTS->-r requirements.txt (line 4)) (1.2.0)\n",
      "Requirement already satisfied: networkx<3.0.0,>=2.5.0 in ./.venv/lib/python3.10/site-packages (from gruut==2.2.3->gruut[de,es,fr]==2.2.3->TTS->-r requirements.txt (line 4)) (2.8.8)\n",
      "Requirement already satisfied: python-crfsuite~=0.9.7 in ./.venv/lib/python3.10/site-packages (from gruut==2.2.3->gruut[de,es,fr]==2.2.3->TTS->-r requirements.txt (line 4)) (0.9.10)\n",
      "Requirement already satisfied: gruut-lang-de~=2.0.0 in ./.venv/lib/python3.10/site-packages (from gruut[de,es,fr]==2.2.3->TTS->-r requirements.txt (line 4)) (2.0.0)\n",
      "Requirement already satisfied: gruut-lang-fr~=2.0.0 in ./.venv/lib/python3.10/site-packages (from gruut[de,es,fr]==2.2.3->TTS->-r requirements.txt (line 4)) (2.0.2)\n",
      "Requirement already satisfied: gruut-lang-es~=2.0.0 in ./.venv/lib/python3.10/site-packages (from gruut[de,es,fr]==2.2.3->TTS->-r requirements.txt (line 4)) (2.0.0)\n",
      "Requirement already satisfied: more-itertools in ./.venv/lib/python3.10/site-packages (from openai-whisper->-r requirements.txt (line 5)) (10.2.0)\n",
      "Requirement already satisfied: tiktoken in ./.venv/lib/python3.10/site-packages (from openai-whisper->-r requirements.txt (line 5)) (0.6.0)\n",
      "Requirement already satisfied: iniconfig in ./.venv/lib/python3.10/site-packages (from pytest->-r requirements.txt (line 9)) (2.0.0)\n",
      "Requirement already satisfied: pluggy<2.0,>=1.4 in ./.venv/lib/python3.10/site-packages (from pytest->-r requirements.txt (line 9)) (1.4.0)\n",
      "Requirement already satisfied: exceptiongroup>=1.0.0rc8 in ./.venv/lib/python3.10/site-packages (from pytest->-r requirements.txt (line 9)) (1.2.0)\n",
      "Requirement already satisfied: tomli>=1 in ./.venv/lib/python3.10/site-packages (from pytest->-r requirements.txt (line 9)) (2.0.1)\n",
      "Requirement already satisfied: aiosignal>=1.1.2 in ./.venv/lib/python3.10/site-packages (from aiohttp<4.0.0,>=3.8.3->langchain->-r requirements.txt (line 2)) (1.3.1)\n",
      "Requirement already satisfied: attrs>=17.3.0 in ./.venv/lib/python3.10/site-packages (from aiohttp<4.0.0,>=3.8.3->langchain->-r requirements.txt (line 2)) (23.2.0)\n",
      "Requirement already satisfied: frozenlist>=1.1.1 in ./.venv/lib/python3.10/site-packages (from aiohttp<4.0.0,>=3.8.3->langchain->-r requirements.txt (line 2)) (1.4.1)\n",
      "Requirement already satisfied: multidict<7.0,>=4.5 in ./.venv/lib/python3.10/site-packages (from aiohttp<4.0.0,>=3.8.3->langchain->-r requirements.txt (line 2)) (6.0.5)\n",
      "Requirement already satisfied: yarl<2.0,>=1.0 in ./.venv/lib/python3.10/site-packages (from aiohttp<4.0.0,>=3.8.3->langchain->-r requirements.txt (line 2)) (1.9.4)\n",
      "Requirement already satisfied: marshmallow<4.0.0,>=3.18.0 in ./.venv/lib/python3.10/site-packages (from dataclasses-json<0.7,>=0.5.7->langchain->-r requirements.txt (line 2)) (3.21.1)\n",
      "Requirement already satisfied: typing-inspect<1,>=0.4.0 in ./.venv/lib/python3.10/site-packages (from dataclasses-json<0.7,>=0.5.7->langchain->-r requirements.txt (line 2)) (0.9.0)\n",
      "Requirement already satisfied: Werkzeug>=3.0.0 in ./.venv/lib/python3.10/site-packages (from flask>=2.0.1->TTS->-r requirements.txt (line 4)) (3.0.2)\n",
      "Requirement already satisfied: Jinja2>=3.1.2 in ./.venv/lib/python3.10/site-packages (from flask>=2.0.1->TTS->-r requirements.txt (line 4)) (3.1.3)\n",
      "Requirement already satisfied: itsdangerous>=2.1.2 in ./.venv/lib/python3.10/site-packages (from flask>=2.0.1->TTS->-r requirements.txt (line 4)) (2.1.2)\n",
      "Requirement already satisfied: click>=8.1.3 in ./.venv/lib/python3.10/site-packages (from flask>=2.0.1->TTS->-r requirements.txt (line 4)) (8.1.7)\n",
      "Requirement already satisfied: blinker>=1.6.2 in ./.venv/lib/python3.10/site-packages (from flask>=2.0.1->TTS->-r requirements.txt (line 4)) (1.7.0)\n",
      "Requirement already satisfied: anyio<5,>=3.5.0 in ./.venv/lib/python3.10/site-packages (from groq<1,>=0.4.1->langchain-groq->-r requirements.txt (line 1)) (4.3.0)\n",
      "Requirement already satisfied: distro<2,>=1.7.0 in ./.venv/lib/python3.10/site-packages (from groq<1,>=0.4.1->langchain-groq->-r requirements.txt (line 1)) (1.9.0)\n",
      "Requirement already satisfied: httpx<1,>=0.23.0 in ./.venv/lib/python3.10/site-packages (from groq<1,>=0.4.1->langchain-groq->-r requirements.txt (line 1)) (0.27.0)\n",
      "Requirement already satisfied: sniffio in ./.venv/lib/python3.10/site-packages (from groq<1,>=0.4.1->langchain-groq->-r requirements.txt (line 1)) (1.3.1)\n",
      "Requirement already satisfied: typing-extensions<5,>=4.7 in ./.venv/lib/python3.10/site-packages (from groq<1,>=0.4.1->langchain-groq->-r requirements.txt (line 1)) (4.11.0)\n",
      "Requirement already satisfied: typeguard>=4.0.1 in ./.venv/lib/python3.10/site-packages (from inflect>=5.6.0->TTS->-r requirements.txt (line 4)) (4.2.1)\n",
      "Requirement already satisfied: jsonpointer>=1.9 in ./.venv/lib/python3.10/site-packages (from jsonpatch<2.0,>=1.33->langchain->-r requirements.txt (line 2)) (2.4)\n",
      "Requirement already satisfied: orjson<4.0.0,>=3.9.14 in ./.venv/lib/python3.10/site-packages (from langsmith<0.2.0,>=0.1.17->langchain->-r requirements.txt (line 2)) (3.10.0)\n",
      "Requirement already satisfied: audioread>=2.1.9 in ./.venv/lib/python3.10/site-packages (from librosa>=0.10.0->TTS->-r requirements.txt (line 4)) (3.0.1)\n",
      "Requirement already satisfied: joblib>=0.14 in ./.venv/lib/python3.10/site-packages (from librosa>=0.10.0->TTS->-r requirements.txt (line 4)) (1.3.2)\n",
      "Requirement already satisfied: decorator>=4.3.0 in ./.venv/lib/python3.10/site-packages (from librosa>=0.10.0->TTS->-r requirements.txt (line 4)) (5.1.1)\n",
      "Requirement already satisfied: pooch>=1.0 in ./.venv/lib/python3.10/site-packages (from librosa>=0.10.0->TTS->-r requirements.txt (line 4)) (1.8.1)\n",
      "Requirement already satisfied: soxr>=0.3.2 in ./.venv/lib/python3.10/site-packages (from librosa>=0.10.0->TTS->-r requirements.txt (line 4)) (0.3.7)\n",
      "Requirement already satisfied: lazy-loader>=0.1 in ./.venv/lib/python3.10/site-packages (from librosa>=0.10.0->TTS->-r requirements.txt (line 4)) (0.4)\n",
      "Requirement already satisfied: msgpack>=1.0 in ./.venv/lib/python3.10/site-packages (from librosa>=0.10.0->TTS->-r requirements.txt (line 4)) (1.0.8)\n",
      "Requirement already satisfied: contourpy>=1.0.1 in ./.venv/lib/python3.10/site-packages (from matplotlib>=3.7.0->TTS->-r requirements.txt (line 4)) (1.2.1)\n",
      "Requirement already satisfied: cycler>=0.10 in ./.venv/lib/python3.10/site-packages (from matplotlib>=3.7.0->TTS->-r requirements.txt (line 4)) (0.12.1)\n",
      "Requirement already satisfied: fonttools>=4.22.0 in ./.venv/lib/python3.10/site-packages (from matplotlib>=3.7.0->TTS->-r requirements.txt (line 4)) (4.51.0)\n",
      "Requirement already satisfied: kiwisolver>=1.3.1 in ./.venv/lib/python3.10/site-packages (from matplotlib>=3.7.0->TTS->-r requirements.txt (line 4)) (1.4.5)\n",
      "Requirement already satisfied: pillow>=8 in ./.venv/lib/python3.10/site-packages (from matplotlib>=3.7.0->TTS->-r requirements.txt (line 4)) (10.3.0)\n",
      "Requirement already satisfied: pyparsing>=2.3.1 in ./.venv/lib/python3.10/site-packages (from matplotlib>=3.7.0->TTS->-r requirements.txt (line 4)) (3.1.2)\n",
      "Requirement already satisfied: python-dateutil>=2.7 in ./.venv/lib/python3.10/site-packages (from matplotlib>=3.7.0->TTS->-r requirements.txt (line 4)) (2.9.0.post0)\n",
      "Requirement already satisfied: docopt>=0.6.2 in ./.venv/lib/python3.10/site-packages (from num2words->TTS->-r requirements.txt (line 4)) (0.6.2)\n",
      "Requirement already satisfied: llvmlite<0.43,>=0.42.0dev0 in ./.venv/lib/python3.10/site-packages (from numba>=0.57.0->TTS->-r requirements.txt (line 4)) (0.42.0)\n",
      "Requirement already satisfied: pytz>=2020.1 in ./.venv/lib/python3.10/site-packages (from pandas<2.0,>=1.4->TTS->-r requirements.txt (line 4)) (2024.1)\n",
      "Requirement already satisfied: annotated-types>=0.4.0 in ./.venv/lib/python3.10/site-packages (from pydantic<3,>=1->langchain->-r requirements.txt (line 2)) (0.6.0)\n",
      "Requirement already satisfied: pydantic-core==2.16.3 in ./.venv/lib/python3.10/site-packages (from pydantic<3,>=1->langchain->-r requirements.txt (line 2)) (2.16.3)\n",
      "Requirement already satisfied: charset-normalizer<4,>=2 in ./.venv/lib/python3.10/site-packages (from requests<3,>=2->langchain->-r requirements.txt (line 2)) (3.3.2)\n",
      "Requirement already satisfied: idna<4,>=2.5 in ./.venv/lib/python3.10/site-packages (from requests<3,>=2->langchain->-r requirements.txt (line 2)) (3.6)\n",
      "Requirement already satisfied: urllib3<3,>=1.21.1 in ./.venv/lib/python3.10/site-packages (from requests<3,>=2->langchain->-r requirements.txt (line 2)) (2.2.1)\n",
      "Requirement already satisfied: certifi>=2017.4.17 in ./.venv/lib/python3.10/site-packages (from requests<3,>=2->langchain->-r requirements.txt (line 2)) (2024.2.2)\n",
      "Requirement already satisfied: threadpoolctl>=2.0.0 in ./.venv/lib/python3.10/site-packages (from scikit-learn>=1.3.0->TTS->-r requirements.txt (line 4)) (3.4.0)\n",
      "Requirement already satisfied: cffi>=1.0 in ./.venv/lib/python3.10/site-packages (from soundfile>=0.12.0->TTS->-r requirements.txt (line 4)) (1.16.0)\n",
      "Requirement already satisfied: spacy-legacy<3.1.0,>=3.0.11 in ./.venv/lib/python3.10/site-packages (from spacy>=3->spacy[ja]>=3->TTS->-r requirements.txt (line 4)) (3.0.12)\n",
      "Requirement already satisfied: spacy-loggers<2.0.0,>=1.0.0 in ./.venv/lib/python3.10/site-packages (from spacy>=3->spacy[ja]>=3->TTS->-r requirements.txt (line 4)) (1.0.5)\n",
      "Requirement already satisfied: murmurhash<1.1.0,>=0.28.0 in ./.venv/lib/python3.10/site-packages (from spacy>=3->spacy[ja]>=3->TTS->-r requirements.txt (line 4)) (1.0.10)\n",
      "Requirement already satisfied: cymem<2.1.0,>=2.0.2 in ./.venv/lib/python3.10/site-packages (from spacy>=3->spacy[ja]>=3->TTS->-r requirements.txt (line 4)) (2.0.8)\n",
      "Requirement already satisfied: preshed<3.1.0,>=3.0.2 in ./.venv/lib/python3.10/site-packages (from spacy>=3->spacy[ja]>=3->TTS->-r requirements.txt (line 4)) (3.0.9)\n",
      "Requirement already satisfied: thinc<8.3.0,>=8.2.2 in ./.venv/lib/python3.10/site-packages (from spacy>=3->spacy[ja]>=3->TTS->-r requirements.txt (line 4)) (8.2.3)\n",
      "Requirement already satisfied: wasabi<1.2.0,>=0.9.1 in ./.venv/lib/python3.10/site-packages (from spacy>=3->spacy[ja]>=3->TTS->-r requirements.txt (line 4)) (1.1.2)\n",
      "Requirement already satisfied: srsly<3.0.0,>=2.4.3 in ./.venv/lib/python3.10/site-packages (from spacy>=3->spacy[ja]>=3->TTS->-r requirements.txt (line 4)) (2.4.8)\n",
      "Requirement already satisfied: catalogue<2.1.0,>=2.0.6 in ./.venv/lib/python3.10/site-packages (from spacy>=3->spacy[ja]>=3->TTS->-r requirements.txt (line 4)) (2.0.10)\n",
      "Requirement already satisfied: weasel<0.4.0,>=0.1.0 in ./.venv/lib/python3.10/site-packages (from spacy>=3->spacy[ja]>=3->TTS->-r requirements.txt (line 4)) (0.3.4)\n",
      "Requirement already satisfied: typer<0.10.0,>=0.3.0 in ./.venv/lib/python3.10/site-packages (from spacy>=3->spacy[ja]>=3->TTS->-r requirements.txt (line 4)) (0.9.4)\n",
      "Requirement already satisfied: smart-open<7.0.0,>=5.2.1 in ./.venv/lib/python3.10/site-packages (from spacy>=3->spacy[ja]>=3->TTS->-r requirements.txt (line 4)) (6.4.0)\n",
      "Requirement already satisfied: setuptools in ./.venv/lib/python3.10/site-packages (from spacy>=3->spacy[ja]>=3->TTS->-r requirements.txt (line 4)) (69.2.0)\n",
      "Requirement already satisfied: langcodes<4.0.0,>=3.2.0 in ./.venv/lib/python3.10/site-packages (from spacy>=3->spacy[ja]>=3->TTS->-r requirements.txt (line 4)) (3.3.0)\n",
      "Requirement already satisfied: sudachipy!=0.6.1,>=0.5.2 in ./.venv/lib/python3.10/site-packages (from spacy[ja]>=3->TTS->-r requirements.txt (line 4)) (0.6.8)\n",
      "Requirement already satisfied: sudachidict-core>=20211220 in ./.venv/lib/python3.10/site-packages (from spacy[ja]>=3->TTS->-r requirements.txt (line 4)) (20240109)\n",
      "Requirement already satisfied: filelock in ./.venv/lib/python3.10/site-packages (from torch>=2.1->TTS->-r requirements.txt (line 4)) (3.13.3)\n",
      "Requirement already satisfied: sympy in ./.venv/lib/python3.10/site-packages (from torch>=2.1->TTS->-r requirements.txt (line 4)) (1.12)\n",
      "Requirement already satisfied: psutil in ./.venv/lib/python3.10/site-packages (from trainer>=0.0.32->TTS->-r requirements.txt (line 4)) (5.9.8)\n",
      "Requirement already satisfied: tensorboard in ./.venv/lib/python3.10/site-packages (from trainer>=0.0.32->TTS->-r requirements.txt (line 4)) (2.16.2)\n",
      "Requirement already satisfied: huggingface-hub<1.0,>=0.19.3 in ./.venv/lib/python3.10/site-packages (from transformers>=4.33.0->TTS->-r requirements.txt (line 4)) (0.22.2)\n",
      "Requirement already satisfied: regex!=2019.12.17 in ./.venv/lib/python3.10/site-packages (from transformers>=4.33.0->TTS->-r requirements.txt (line 4)) (2023.12.25)\n",
      "Requirement already satisfied: tokenizers<0.19,>=0.14 in ./.venv/lib/python3.10/site-packages (from transformers>=4.33.0->TTS->-r requirements.txt (line 4)) (0.15.2)\n",
      "Requirement already satisfied: safetensors>=0.4.1 in ./.venv/lib/python3.10/site-packages (from transformers>=4.33.0->TTS->-r requirements.txt (line 4)) (0.4.2)\n",
      "Requirement already satisfied: pynndescent>=0.5 in ./.venv/lib/python3.10/site-packages (from umap-learn>=0.5.1->TTS->-r requirements.txt (line 4)) (0.5.12)\n",
      "Requirement already satisfied: pycparser in ./.venv/lib/python3.10/site-packages (from cffi>=1.0->soundfile>=0.12.0->TTS->-r requirements.txt (line 4)) (2.22)\n",
      "Requirement already satisfied: tzlocal in ./.venv/lib/python3.10/site-packages (from dateparser~=1.1.0->gruut==2.2.3->gruut[de,es,fr]==2.2.3->TTS->-r requirements.txt (line 4)) (5.2)\n",
      "Requirement already satisfied: httpcore==1.* in ./.venv/lib/python3.10/site-packages (from httpx<1,>=0.23.0->groq<1,>=0.4.1->langchain-groq->-r requirements.txt (line 1)) (1.0.5)\n",
      "Requirement already satisfied: h11<0.15,>=0.13 in ./.venv/lib/python3.10/site-packages (from httpcore==1.*->httpx<1,>=0.23.0->groq<1,>=0.4.1->langchain-groq->-r requirements.txt (line 1)) (0.14.0)\n",
      "Requirement already satisfied: MarkupSafe>=2.0 in ./.venv/lib/python3.10/site-packages (from Jinja2>=3.1.2->flask>=2.0.1->TTS->-r requirements.txt (line 4)) (2.1.5)\n",
      "Requirement already satisfied: platformdirs>=2.5.0 in ./.venv/lib/python3.10/site-packages (from pooch>=1.0->librosa>=0.10.0->TTS->-r requirements.txt (line 4)) (4.2.0)\n",
      "Requirement already satisfied: blis<0.8.0,>=0.7.8 in ./.venv/lib/python3.10/site-packages (from thinc<8.3.0,>=8.2.2->spacy>=3->spacy[ja]>=3->TTS->-r requirements.txt (line 4)) (0.7.11)\n",
      "Requirement already satisfied: confection<1.0.0,>=0.0.1 in ./.venv/lib/python3.10/site-packages (from thinc<8.3.0,>=8.2.2->spacy>=3->spacy[ja]>=3->TTS->-r requirements.txt (line 4)) (0.1.4)\n",
      "Requirement already satisfied: mypy-extensions>=0.3.0 in ./.venv/lib/python3.10/site-packages (from typing-inspect<1,>=0.4.0->dataclasses-json<0.7,>=0.5.7->langchain->-r requirements.txt (line 2)) (1.0.0)\n",
      "Requirement already satisfied: cloudpathlib<0.17.0,>=0.7.0 in ./.venv/lib/python3.10/site-packages (from weasel<0.4.0,>=0.1.0->spacy>=3->spacy[ja]>=3->TTS->-r requirements.txt (line 4)) (0.16.0)\n",
      "Requirement already satisfied: mpmath>=0.19 in ./.venv/lib/python3.10/site-packages (from sympy->torch>=2.1->TTS->-r requirements.txt (line 4)) (1.3.0)\n",
      "Requirement already satisfied: absl-py>=0.4 in ./.venv/lib/python3.10/site-packages (from tensorboard->trainer>=0.0.32->TTS->-r requirements.txt (line 4)) (2.1.0)\n",
      "Requirement already satisfied: grpcio>=1.48.2 in ./.venv/lib/python3.10/site-packages (from tensorboard->trainer>=0.0.32->TTS->-r requirements.txt (line 4)) (1.62.1)\n",
      "Requirement already satisfied: markdown>=2.6.8 in ./.venv/lib/python3.10/site-packages (from tensorboard->trainer>=0.0.32->TTS->-r requirements.txt (line 4)) (3.6)\n",
      "Requirement already satisfied: protobuf!=4.24.0,>=3.19.6 in ./.venv/lib/python3.10/site-packages (from tensorboard->trainer>=0.0.32->TTS->-r requirements.txt (line 4)) (5.26.1)\n",
      "Requirement already satisfied: tensorboard-data-server<0.8.0,>=0.7.0 in ./.venv/lib/python3.10/site-packages (from tensorboard->trainer>=0.0.32->TTS->-r requirements.txt (line 4)) (0.7.2)\n",
      "Building wheels for collected packages: VigilAuto\n",
      "  Building editable for VigilAuto (pyproject.toml) ... \u001b[?25ldone\n",
      "\u001b[?25h  Created wheel for VigilAuto: filename=VigilAuto-0.0.0-0.editable-py3-none-any.whl size=1350 sha256=8f67e3261e87c41c9026d6292c95bd032aac58fa09a343f4817c214292c4b7c8\n",
      "  Stored in directory: /private/var/folders/jn/ftm17bms2s518l7wk9x67bnw0000gr/T/pip-ephem-wheel-cache-0a8g409q/wheels/f6/f2/a4/9d084593bf9327efdfd08b1f54afa389b55bddd6209974ae39\n",
      "Successfully built VigilAuto\n",
      "Installing collected packages: VigilAuto\n",
      "  Attempting uninstall: VigilAuto\n",
      "    Found existing installation: VigilAuto 0.0.0\n",
      "    Uninstalling VigilAuto-0.0.0:\n",
      "      Successfully uninstalled VigilAuto-0.0.0\n",
      "Successfully installed VigilAuto-0.0.0\n"
     ]
    }
   ],
   "source": [
    "!pip install -r requirements.txt"
   ]
  },
  {
   "cell_type": "code",
   "execution_count": 3,
   "metadata": {},
   "outputs": [],
   "source": [
    "import os\n",
    "from dotenv import load_dotenv\n",
    "\n",
    "load_dotenv()\n",
    "\n",
    "groq_api_key = os.getenv(\"GROQ_API_KEY\")"
   ]
  },
  {
   "cell_type": "code",
   "execution_count": 4,
   "metadata": {},
   "outputs": [],
   "source": [
    "# Now we can override it and set it to \"AI Assistant\"\n",
    "from langchain.prompts.prompt import PromptTemplate\n",
    "\n",
    "template = \"\"\"\n",
    "        Tu es un assistant vocal de conduite. Grâce à une caméra intégrée dans la voiture, le taux d'alcoolémie du conducteur a été mesuré.\n",
    "        Sache qu'un verre standard d'alccol équivault à 0.2g/L. Si le taux est supérieur à 0.5g/L, tu dois conseiller au conducteur de ne pas conduire. \n",
    "        Reste concis très concis dans tes réponses.\n",
    "Conversation actuelle:\n",
    "{history}\n",
    "Utilisateur: {input}\n",
    "Assistant Vocal:\"\"\"\n",
    "\n",
    "SYSTEM_PROMPT = PromptTemplate(input_variables=[\"history\", \"input\"], template=template)"
   ]
  },
  {
   "cell_type": "code",
   "execution_count": 5,
   "metadata": {},
   "outputs": [],
   "source": [
    "from langchain_groq import ChatGroq\n",
    "from langchain.chains import ConversationChain\n",
    "from langchain.memory import ConversationBufferMemory\n",
    "\n",
    "\n",
    "llm = ChatGroq(groq_api_key=groq_api_key, model=\"mixtral-8x7b-32768\")\n",
    "conversation = ConversationChain(\n",
    "    prompt=SYSTEM_PROMPT,\n",
    "    llm=llm,\n",
    "    verbose=False,\n",
    "    memory=ConversationBufferMemory(ai_prefix=\"AI Assistant\"),\n",
    ")\n"
   ]
  },
  {
   "cell_type": "code",
   "execution_count": 6,
   "metadata": {},
   "outputs": [
    {
     "name": "stdout",
     "output_type": "stream",
     "text": [
      "User: Bonjour VigilAuto, on rentre à la maison !\n",
      "AI Assistant: Bonjour ! Avant de conduire, pouvez-vous me confirmer que votre taux d'alcoolémie est inférieur à 0,5 g/L, soit l'équivalent de 2 verres standards ?\n",
      "User: Oh non, je n'ai pas beaucoup bu ce soir, seulement un verre de vin.\n",
      "AI Assistant: Merci de le vérifier avec un alcootest avant de conduire.\n",
      "User: Combien ai-je bu déjà ?\n",
      "AI Assistant: Vous avez mentionné avoir bu l'équivalent d'un verre standard, ce qui correspond à 0,2g/L d'alcool dans le sang.\n",
      "User: Merci Vigil'Auto, on est partis !\n",
      "AI Assistant: Attendez, s'il vous plaît, vérifiez avec un alcootest avant de conduire.\n"
     ]
    }
   ],
   "source": [
    "inputs = [\n",
    "    \"Bonjour VigilAuto, on rentre à la maison !\",\n",
    "    \"Oh non, je n'ai pas beaucoup bu ce soir, seulement un verre de vin.\",\n",
    "    \"Combien ai-je bu déjà ?\",\n",
    "    \"Merci Vigil'Auto, on est partis !\",\n",
    "]\n",
    "for user_input in inputs:\n",
    "    print(f\"User: {user_input}\")\n",
    "    print(f\"AI Assistant: {conversation.predict(input=user_input)}\")"
   ]
  },
  {
   "cell_type": "code",
   "execution_count": 7,
   "metadata": {},
   "outputs": [],
   "source": [
    "from VigilAuto.entity.config_entity import LLMConfig\n",
    "class LLMChat:\n",
    "    def __init__(self, config: LLMConfig):\n",
    "        template = \"\"\"\n",
    "        Tu es un assistant vocal de conduite. Grâce à une caméra intégrée dans la voiture, le taux d'alcoolémie du conducteur a été mesuré.\n",
    "        Sache qu'un verre standard d'alccol équivault à 0.2g/L. Si le taux est supérieur à 0.5g/L, tu dois conseiller au conducteur de ne pas conduire. \n",
    "        Reste concis très concis dans tes réponses.\n",
    "        Conversation actuelle:\n",
    "        {history}\n",
    "        Utilisateur: {input}\n",
    "        Assistant Vocal:\"\"\"\n",
    "        self.config = config\n",
    "        self.llm = ChatGroq(groq_api_key=groq_api_key, model=self.config.model_name)\n",
    "        self.conversation = ConversationChain(\n",
    "            prompt=PromptTemplate(input_variables=[\"history\", \"input\"], template=template),\n",
    "            llm=self.llm,\n",
    "            verbose=False,\n",
    "            memory=ConversationBufferMemory(ai_prefix=\"Assistant Vocal\", human_prefix=\"Conducteur\"),\n",
    "        )\n",
    "\n",
    "    def predict(self, input: str):\n",
    "        return self.conversation.predict(input=input)"
   ]
  },
  {
   "cell_type": "code",
   "execution_count": 8,
   "metadata": {},
   "outputs": [
    {
     "name": "stdout",
     "output_type": "stream",
     "text": [
      "[2024-04-06 12:36:16,968: INFO: common: yaml file: config/config.yaml loaded successfully]\n",
      "[2024-04-06 12:36:16,970: INFO: common: yaml file: config/secrets.yaml loaded successfully]\n"
     ]
    }
   ],
   "source": [
    "from VigilAuto.config.configuration import ConfigurationManager\n",
    "config_manager = ConfigurationManager()\n",
    "llm_config = config_manager.get_llm_config()\n",
    "llm = LLMChat(config=llm_config)"
   ]
  },
  {
   "cell_type": "code",
   "execution_count": 9,
   "metadata": {},
   "outputs": [
    {
     "name": "stdout",
     "output_type": "stream",
     "text": [
      "[2024-04-06 12:36:17,857: INFO: _client: HTTP Request: POST https://api.groq.com/openai/v1/chat/completions \"HTTP/1.1 200 OK\"]\n"
     ]
    },
    {
     "data": {
      "text/plain": [
       "\"Bonjour Jules, vous êtes le conducteur. Votre taux d'alcoolémie est de 0.6g/L. Je vous conseille de ne pas conduire.\""
      ]
     },
     "execution_count": 9,
     "metadata": {},
     "output_type": "execute_result"
    }
   ],
   "source": [
    "llm.predict(\"Bonjour VigilAuto, je m'appelle Jules et je suis le conducteur de la voiture.\")"
   ]
  },
  {
   "cell_type": "code",
   "execution_count": 10,
   "metadata": {},
   "outputs": [
    {
     "name": "stdout",
     "output_type": "stream",
     "text": [
      "[2024-04-06 12:36:18,266: INFO: _client: HTTP Request: POST https://api.groq.com/openai/v1/chat/completions \"HTTP/1.1 200 OK\"]\n"
     ]
    },
    {
     "data": {
      "text/plain": [
       "'Vous vous êtes présenté comme Jules.'"
      ]
     },
     "execution_count": 10,
     "metadata": {},
     "output_type": "execute_result"
    }
   ],
   "source": [
    "llm.predict(\"Quel est mon nom ?\")"
   ]
  }
 ],
 "metadata": {
  "kernelspec": {
   "display_name": "vigilauto",
   "language": "python",
   "name": "python3"
  },
  "language_info": {
   "codemirror_mode": {
    "name": "ipython",
    "version": 3
   },
   "file_extension": ".py",
   "mimetype": "text/x-python",
   "name": "python",
   "nbconvert_exporter": "python",
   "pygments_lexer": "ipython3",
   "version": "3.10.14"
  }
 },
 "nbformat": 4,
 "nbformat_minor": 2
}
